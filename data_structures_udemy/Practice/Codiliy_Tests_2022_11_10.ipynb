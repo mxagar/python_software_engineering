{
 "cells": [
  {
   "cell_type": "markdown",
   "id": "8243df98-722f-4b92-9cec-1378d0d1ffe3",
   "metadata": {},
   "source": [
    "# Programming Tests with Codility"
   ]
  },
  {
   "cell_type": "markdown",
   "id": "40820940-0c8b-4c66-a61f-04a2f7159e7a",
   "metadata": {},
   "source": [
    "### Table of Contents\n",
    "\n",
    "- [Challenge 1](#Challenge-1): Write a function solution(A) that, given an array A of N integers, returns the smallest positive integer (greater than 0) that does not occur in A."
   ]
  },
  {
   "cell_type": "markdown",
   "id": "7d5dee1e-ef74-401a-b43c-5aaeca2c703e",
   "metadata": {},
   "source": [
    "## Challenge 1"
   ]
  },
  {
   "cell_type": "markdown",
   "id": "425d9bcc-f8cd-4152-b106-26b4640dc722",
   "metadata": {},
   "source": [
    "Write a function solution(A) that, given an array A of N integers, returns the smallest positive integer (greater than 0) that does not occur in A."
   ]
  },
  {
   "cell_type": "markdown",
   "id": "515eeecd-0efb-44e2-af87-f2dc399774bc",
   "metadata": {},
   "source": [
    "#### Solution 1"
   ]
  },
  {
   "cell_type": "code",
   "execution_count": 4,
   "id": "9d3c6553-7fd2-4192-8edf-16de63f93289",
   "metadata": {},
   "outputs": [],
   "source": [
    "def solution(A):\n",
    "\n",
    "    A_sorted = sorted(A)\n",
    "    if A_sorted[-1] <= 0:\n",
    "        return 1\n",
    "    else:\n",
    "        for i in range(len(A_sorted)-1):\n",
    "            a = A_sorted[i]\n",
    "            b = A_sorted[i+1]\n",
    "            if b-a > 1:\n",
    "                if a > 0:\n",
    "                    return a+1\n",
    "                elif b > 0:\n",
    "                    return 1\n",
    "        return A_sorted[-1]+1"
   ]
  },
  {
   "cell_type": "markdown",
   "id": "8c075b4e-080d-4a51-9ca5-84a21e2c15ee",
   "metadata": {},
   "source": [
    "#### Solution 2"
   ]
  },
  {
   "cell_type": "code",
   "execution_count": 2,
   "id": "f34f4f5c-3960-4774-91e9-7cf2b23928f4",
   "metadata": {},
   "outputs": [],
   "source": [
    "def solution(A):\n",
    "    maxA = max(A)\n",
    "    \n",
    "    if maxA <= 0:\n",
    "        return 1\n",
    "    \n",
    "    set_ = set(A)\n",
    "    \n",
    "    for i in range(1, maxA + 1):\n",
    "        if i not in set_:\n",
    "            return i\n",
    "\n",
    "    return maxA + 1"
   ]
  },
  {
   "cell_type": "markdown",
   "id": "d4eecc84-fa42-4c11-a95e-2e85baca59b2",
   "metadata": {},
   "source": [
    "#### Solution 3"
   ]
  },
  {
   "cell_type": "code",
   "execution_count": 3,
   "id": "10cc2831-22b4-4152-8256-e900c19fbdf5",
   "metadata": {},
   "outputs": [],
   "source": [
    "def solution(A):\n",
    "    # Create a set of the positive integers in A\n",
    "    unique_set = set(i for i in A if i > 0)\n",
    "\n",
    "    # Return the minimum positive integer that does not occur in A\n",
    "    return min(set(range(1, max(A) + 2)) - unique_set)"
   ]
  },
  {
   "cell_type": "code",
   "execution_count": null,
   "id": "8531d4ff-d663-4a1e-b393-c26676209a7c",
   "metadata": {},
   "outputs": [],
   "source": []
  }
 ],
 "metadata": {
  "kernelspec": {
   "display_name": "Python 3 (ipykernel)",
   "language": "python",
   "name": "python3"
  },
  "language_info": {
   "codemirror_mode": {
    "name": "ipython",
    "version": 3
   },
   "file_extension": ".py",
   "mimetype": "text/x-python",
   "name": "python",
   "nbconvert_exporter": "python",
   "pygments_lexer": "ipython3",
   "version": "3.7.13"
  }
 },
 "nbformat": 4,
 "nbformat_minor": 5
}
