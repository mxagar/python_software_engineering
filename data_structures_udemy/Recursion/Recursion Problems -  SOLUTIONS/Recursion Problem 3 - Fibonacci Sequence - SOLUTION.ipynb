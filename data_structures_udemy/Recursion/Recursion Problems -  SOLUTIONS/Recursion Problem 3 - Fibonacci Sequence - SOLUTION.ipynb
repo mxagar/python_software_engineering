{
 "cells": [
  {
   "cell_type": "markdown",
   "metadata": {},
   "source": [
    "# Fibonnaci Sequence\n",
    "\n",
    "## Problem Statement\n",
    "\n",
    "Implement a [Fibonnaci Sequence](https://en.wikipedia.org/wiki/Fibonacci_number) in three different ways:\n",
    "\n",
    "* Recursively\n",
    "* Dynamically (Using Memoization to store results)\n",
    "* Iteratively\n",
    "\n",
    "Remember that a fibonacci sequence: 0,1,1,2,3,5,8,13,21,... starts off with a base case checking to see if n = 0 or 1, then it returns 1. \n",
    "\n",
    "Else it returns fib(n-1)+fib(n+2)."
   ]
  },
  {
   "cell_type": "markdown",
   "metadata": {},
   "source": [
    "### Recursively\n",
    "\n",
    "The recursive solution is exponential time Big-O , with O(2^n). However, its a very simple and basic implementation to consider:"
   ]
  },
  {
   "cell_type": "code",
   "execution_count": 3,
   "metadata": {
    "tags": []
   },
   "outputs": [],
   "source": [
    "def fib_rec(n):\n",
    "    # Base Case\n",
    "    if n == 0 or n == 1:\n",
    "        return n\n",
    "    # Recursion\n",
    "    else:\n",
    "        return fib_rec(n-1) + fib_rec(n-2)"
   ]
  },
  {
   "cell_type": "code",
   "execution_count": 4,
   "metadata": {},
   "outputs": [
    {
     "data": {
      "text/plain": [
       "55"
      ]
     },
     "execution_count": 4,
     "metadata": {},
     "output_type": "execute_result"
    }
   ],
   "source": [
    "fib_rec(10)"
   ]
  },
  {
   "cell_type": "markdown",
   "metadata": {},
   "source": [
    "### Dynamically\n",
    "\n",
    "In the form it is implemented here, the cache is set beforehand and is based on the desired **n** number of the Fibonacci Sequence. Note how we check it the cache[n] != None, meaning we have a check to know wether or not to keep setting the cache (and more importantly keep cache of old results!)"
   ]
  },
  {
   "cell_type": "code",
   "execution_count": 16,
   "metadata": {},
   "outputs": [],
   "source": [
    "# Instantiate Cache information\n",
    "n = 10\n",
    "cache = [None] * (n + 1)\n",
    "# However, note that this approach needs to resize the cache\n",
    "# every time. Another option is to use a Memoize class with\n",
    "# a dictionary; in that case, no resizing is needed, as the class\n",
    "# takes care of the issue with the dictionary.\n",
    "def fib_dyn(n):    \n",
    "    # Base Case\n",
    "    if n == 0 or n == 1:\n",
    "        return n\n",
    "    # Check cache\n",
    "    if cache[n] != None:\n",
    "        return cache[n]\n",
    "    # Keep setting cache\n",
    "    cache[n] = fib_dyn(n-1) + fib_dyn(n-2)\n",
    "    \n",
    "    return cache[n]"
   ]
  },
  {
   "cell_type": "code",
   "execution_count": 13,
   "metadata": {},
   "outputs": [
    {
     "data": {
      "text/plain": [
       "55"
      ]
     },
     "execution_count": 13,
     "metadata": {},
     "output_type": "execute_result"
    }
   ],
   "source": [
    "fib_dyn(10)"
   ]
  },
  {
   "cell_type": "code",
   "execution_count": 14,
   "metadata": {},
   "outputs": [],
   "source": [
    "# With the previous implementation,\n",
    "# we need to reset cache size for each test!\n",
    "# Or encapsulate in a Memoize class which uses a dictionary instead of a list...\n",
    "\n",
    "class Memoize:\n",
    "    def __init__(self, f):\n",
    "        self.f = f\n",
    "        self.memo = {}\n",
    "    def __call__(self, *args):\n",
    "        if not args in self.memo:\n",
    "            self.memo[args] = self.f(*args)\n",
    "        return self.memo[args]\n",
    "    \n",
    "fib_dyn = Memoize(fib_rec)"
   ]
  },
  {
   "cell_type": "markdown",
   "metadata": {},
   "source": [
    "### Iteratively\n",
    "\n",
    "In this solution we can take advantage of Python's tuple unpacking!"
   ]
  },
  {
   "cell_type": "code",
   "execution_count": 17,
   "metadata": {
    "tags": []
   },
   "outputs": [],
   "source": [
    "def fib_iter(n):\n",
    "    # Set starting point\n",
    "    a = 0\n",
    "    b = 1\n",
    "    \n",
    "    # Follow algorithm\n",
    "    for i in range(n):\n",
    "        # Tuple unpacking\n",
    "        # First right side is evaluated\n",
    "        # then left side is assigned the right side\n",
    "        a, b = b, a + b\n",
    "    \n",
    "    return a"
   ]
  },
  {
   "cell_type": "code",
   "execution_count": 18,
   "metadata": {},
   "outputs": [
    {
     "data": {
      "text/plain": [
       "28657"
      ]
     },
     "execution_count": 18,
     "metadata": {},
     "output_type": "execute_result"
    }
   ],
   "source": [
    "fib_iter(23)"
   ]
  },
  {
   "cell_type": "markdown",
   "metadata": {},
   "source": [
    "### Re-Implementation"
   ]
  },
  {
   "cell_type": "code",
   "execution_count": 32,
   "metadata": {},
   "outputs": [],
   "source": [
    "# Recursively\n",
    "def fib_rec(n):\n",
    "    \n",
    "    # Base\n",
    "    if n < 2:\n",
    "        return n # 0: 0, 1: 1, 2: 1, 3: 2, ...\n",
    "    # Recursion\n",
    "    else:\n",
    "        return fib_rec(n-1) + fib_rec(n-2)\n",
    "\n",
    "# Dynamically\n",
    "class Memoize:\n",
    "    def __init__(self, f):\n",
    "        self.function = f\n",
    "        self.memo = dict()\n",
    "    def __call__(self, value):\n",
    "        if not value in self.memo:\n",
    "             self.memo[value] = self.function(value)\n",
    "        return self.memo[value]\n",
    "\n",
    "fib_dyn = Memoize(fib_rec)\n",
    "\n",
    "def fib_dyn(n):\n",
    "    def fib_rec(n):\n",
    "        # Base\n",
    "        if n < 2:\n",
    "            return n # 0: 0, 1: 1, 2: 1, 3: 2, ...\n",
    "        # Recursion\n",
    "        else:\n",
    "            # Note that the function is the dynamic one, not the \n",
    "            return fib_dyn(n-1) + fib_dyn(n-2)\n",
    "    memo = dict()\n",
    "    if not n in memo:\n",
    "        memo[n] = fib_rec(n)\n",
    "    return memo[n]\n",
    "        \n",
    "# Iteratively\n",
    "def fib_iter(n):\n",
    "    seq = [0, 1]\n",
    "    if n < 2:\n",
    "        return seq[n]\n",
    "    else:\n",
    "        for i in range(2,n+1):\n",
    "            seq.append(seq[i-1]+seq[i-2])\n",
    "        return seq[n]\n",
    "        "
   ]
  },
  {
   "cell_type": "code",
   "execution_count": null,
   "metadata": {},
   "outputs": [],
   "source": []
  },
  {
   "cell_type": "markdown",
   "metadata": {},
   "source": [
    "# Test Your Solution\n",
    "\n",
    "Run the cell below to test your solutions, simply uncomment the solution functions you wish to test!"
   ]
  },
  {
   "cell_type": "code",
   "execution_count": 33,
   "metadata": {},
   "outputs": [
    {
     "name": "stdout",
     "output_type": "stream",
     "text": [
      "Passed all tests.\n",
      "Passed all tests.\n",
      "Passed all tests.\n"
     ]
    }
   ],
   "source": [
    "\"\"\"\n",
    "UNCOMMENT THE CODE AT THE BOTTOM OF THIS CELL TO SELECT WHICH SOLUTIONS TO TEST.\n",
    "THEN RUN THE CELL.\n",
    "\"\"\"\n",
    "class TestFib:\n",
    "    def test(self,solution):\n",
    "        assert (solution(10) == 55)\n",
    "        assert (solution(1) == 1)\n",
    "        assert (solution(23) == 28657)\n",
    "        print('Passed all tests.')\n",
    "\n",
    "# UNCOMMENT FOR CORRESPONDING FUNCTION\n",
    "t = TestFib()\n",
    "\n",
    "t.test(fib_rec)\n",
    "t.test(fib_dyn)\n",
    "t.test(fib_iter)"
   ]
  },
  {
   "cell_type": "markdown",
   "metadata": {},
   "source": [
    "# Conclusion\n",
    "\n",
    "Hopefully this interview question served as a good excercise in exploring recursion, dynamic programming, and iterative solutions for a single problem! Its good to work through all three because in an interview a common question may just begin with requesting a recursive solution and then checking to se if you can implement the other forms!"
   ]
  }
 ],
 "metadata": {
  "kernelspec": {
   "display_name": "Python 3 (ipykernel)",
   "language": "python",
   "name": "python3"
  },
  "language_info": {
   "codemirror_mode": {
    "name": "ipython",
    "version": 3
   },
   "file_extension": ".py",
   "mimetype": "text/x-python",
   "name": "python",
   "nbconvert_exporter": "python",
   "pygments_lexer": "ipython3",
   "version": "3.7.13"
  }
 },
 "nbformat": 4,
 "nbformat_minor": 4
}
