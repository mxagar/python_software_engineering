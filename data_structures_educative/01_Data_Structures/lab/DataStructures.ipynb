{
 "cells": [
  {
   "cell_type": "markdown",
   "id": "34ca7b91-726f-4afb-882e-5ed4c20e8381",
   "metadata": {},
   "source": [
    "# Data Structures"
   ]
  },
  {
   "cell_type": "markdown",
   "id": "b3e094b9-bf2a-4080-9bd2-0bd06cc035ee",
   "metadata": {},
   "source": [
    "This notebook is a playground where I try several algorithms.\n",
    "\n",
    "Overview\n",
    "\n",
    "- [Merge Sort](#merge-sort)\n",
    "- [Max Sum Sublist](#max-sum-sublist)"
   ]
  },
  {
   "cell_type": "markdown",
   "id": "3a1080b7-e44f-4101-850c-9e34d9b30b64",
   "metadata": {},
   "source": [
    "### Merge Sort"
   ]
  },
  {
   "cell_type": "markdown",
   "id": "113fb8cb-388e-47b4-a993-61bf6f9a1c14",
   "metadata": {},
   "source": [
    "`O(nlogn)`"
   ]
  },
  {
   "cell_type": "code",
   "execution_count": 5,
   "id": "c66bceac-e6b7-47f4-afad-bad175320e14",
   "metadata": {},
   "outputs": [],
   "source": [
    "def merge_sort(lst):\n",
    "    if len(lst) < 2:\n",
    "        return lst\n",
    "    else:\n",
    "        # Split\n",
    "        mid = len(lst) // 2 # floor\n",
    "        left = lst[:mid]\n",
    "        right = lst[mid:]\n",
    "        # Sort each half\n",
    "        left_sorted = merge_sort(left)\n",
    "        right_sorted = merge_sort(right)\n",
    "        # Merge \n",
    "        i, j = 0, 0\n",
    "        k = 0\n",
    "        lst_sorted = [None] * len(lst)\n",
    "        #while i in range(len(left_sorted)) and j in range(len(right_sorted)):\n",
    "        while i < len(left_sorted) and j < len(right_sorted):\n",
    "            if left_sorted[i] < right_sorted[j]:\n",
    "                lst_sorted[k] = left_sorted[i]\n",
    "                i += 1\n",
    "            else:\n",
    "                lst_sorted[k] = right_sorted[j]\n",
    "                j += 1\n",
    "            k += 1\n",
    "        # Add remainder\n",
    "        if i < len(left_sorted):\n",
    "            # We have not taken all items from left_sorted\n",
    "            # instead, all from right_sorted were taken.\n",
    "            # This cannot happen! But anyways\n",
    "            lst_sorted[k:] = left_sorted[i:]\n",
    "        elif j < len(right_sorted):\n",
    "            # We have not taken all items from right_sorted\n",
    "            # instead, all from left_sorted were taken.\n",
    "            lst_sorted[k:] = right_sorted[j:]\n",
    "        \n",
    "        return lst_sorted"
   ]
  },
  {
   "cell_type": "code",
   "execution_count": 7,
   "id": "cf960c76-c348-4cc2-9e65-2879adf42372",
   "metadata": {},
   "outputs": [
    {
     "data": {
      "text/plain": [
       "[0, 1, 3, 5, 10]"
      ]
     },
     "execution_count": 7,
     "metadata": {},
     "output_type": "execute_result"
    }
   ],
   "source": [
    "lst = [5, 3, 10, 1, 0]\n",
    "merge_sort(lst)"
   ]
  },
  {
   "cell_type": "code",
   "execution_count": 10,
   "id": "9a8bb993-9db0-4765-b197-ebdce06538dd",
   "metadata": {},
   "outputs": [
    {
     "data": {
      "text/plain": [
       "[1, 10, 3, 5]"
      ]
     },
     "execution_count": 10,
     "metadata": {},
     "output_type": "execute_result"
    }
   ],
   "source": [
    "lst[3::-1]"
   ]
  },
  {
   "cell_type": "markdown",
   "id": "612bd9d8-4ca8-4492-ab6e-6913f6d9c4ab",
   "metadata": {},
   "source": [
    "### Max Sum Sublist"
   ]
  },
  {
   "cell_type": "markdown",
   "id": "32024ced-c734-4bc9-8c46-fb2bf9b43a79",
   "metadata": {},
   "source": [
    "Given an array, find the contiguous sublist (contiguous elements) with the largest sum; the list might have negative numbers anywhere.\n",
    "\n",
    "My solution here finds the first positive and expands the candidate sublist.\n",
    "This solution seems to work, **but it would not work in all cases**. **See Kanade's algorithm below**.\n",
    "\n",
    "For instance: `[10, -1, -1, -1, 100]`: the maximum sublist is the entire array: `117`; however, `100` is returned.\n",
    "\n",
    "One fix would be to colapse all positive and negative sublists and find the maximum on that collapsed list?\n",
    "\n",
    "The algorithmin `O(n)`."
   ]
  },
  {
   "cell_type": "code",
   "execution_count": 20,
   "id": "b8b46aff-6cc6-43a1-b513-742d8dcdc1ee",
   "metadata": {},
   "outputs": [],
   "source": [
    "def find_max_sum_sublist(lst): \n",
    "    # Check if all are negative / 0\n",
    "    max_number = lst[0]\n",
    "    first_positive = -1\n",
    "    for i in range(len(lst)):\n",
    "        if lst[i] > 0:\n",
    "            first_positive = i\n",
    "            break\n",
    "        else:\n",
    "            if lst[i] > max_number:\n",
    "                max_number = lst[i]\n",
    "    if first_positive < 0:\n",
    "        return max_number\n",
    "    \n",
    "    # If here, there are >0 elements\n",
    "    # ie., first_positive > -1\n",
    "    \n",
    "    start = first_positive\n",
    "    end = first_positive+1\n",
    "    s = lst[start]\n",
    "    sublists = []\n",
    "    negatives = []\n",
    "    if end == len(lst):\n",
    "        # We reached end\n",
    "        return s\n",
    "    else:\n",
    "        for i in range(start,len(lst)):\n",
    "            # start is defined, find end\n",
    "            s = lst[start]\n",
    "            for j in range(start+1,len(lst)):\n",
    "                if lst[j] > 0:\n",
    "                    # extend end\n",
    "                    s += lst[j]\n",
    "                    end = j+1\n",
    "                else:\n",
    "                    # one sublist found\n",
    "                    end = j\n",
    "                    negatives.append((j, lst[j]))\n",
    "                    break\n",
    "            sublists.append((start, end, s))\n",
    "            start = end+1\n",
    "            # Check we're not at the end\n",
    "            if start > len(lst):\n",
    "                break\n",
    "            else:\n",
    "                # Find next first positive == start\n",
    "                for j in range(start,len(lst)):\n",
    "                    if lst[j] > 0:\n",
    "                        start = j\n",
    "                        break\n",
    "                    else:\n",
    "                        negatives.append((j, lst[j]))\n",
    "        # We have all sublists and their sums\n",
    "        max_sum = -1\n",
    "        for start, end, s in sublists:\n",
    "            if max_sum < s:\n",
    "                max_sum = s\n",
    "        return max_sum"
   ]
  },
  {
   "cell_type": "code",
   "execution_count": 21,
   "id": "7ff31a03-e816-4827-a637-9b05d373213d",
   "metadata": {},
   "outputs": [
    {
     "data": {
      "text/plain": [
       "12"
      ]
     },
     "execution_count": 21,
     "metadata": {},
     "output_type": "execute_result"
    }
   ],
   "source": [
    "find_max_sum_sublist([-4, 2, -5, 1, 2, 3, 6, -5, 1])"
   ]
  },
  {
   "cell_type": "code",
   "execution_count": 22,
   "id": "b4612b94-fd92-49b2-b7d0-4994c4c7eb85",
   "metadata": {},
   "outputs": [
    {
     "data": {
      "text/plain": [
       "100"
      ]
     },
     "execution_count": 22,
     "metadata": {},
     "output_type": "execute_result"
    }
   ],
   "source": [
    "find_max_sum_sublist([10, -1, -1, -1, 100])"
   ]
  },
  {
   "cell_type": "markdown",
   "id": "87e2ef1c-e71a-4327-9d23-d37555a241eb",
   "metadata": {},
   "source": [
    "#### Kanade's Algorithm: Mux Sum Sublist"
   ]
  },
  {
   "cell_type": "code",
   "execution_count": 30,
   "id": "2cb08fd5-2d84-42df-835e-4f14fe680264",
   "metadata": {},
   "outputs": [],
   "source": [
    "def find_max_sum_sublist(lst): \n",
    "    if (len(lst) < 1): \n",
    "        return 0;\n",
    "\n",
    "    curr_max = lst[0];\n",
    "    global_max = lst[0];\n",
    "    length_array = len(lst);\n",
    "    for i in range(1, length_array):\n",
    "        if curr_max < 0: \n",
    "            curr_max = lst[i]\n",
    "        else:\n",
    "            curr_max += lst[i]\n",
    "        if global_max < curr_max:\n",
    "            global_max = curr_max\n",
    "\n",
    "    return global_max;"
   ]
  },
  {
   "cell_type": "code",
   "execution_count": null,
   "id": "1fd9cfec-aacf-45ae-957b-403b90255f31",
   "metadata": {},
   "outputs": [],
   "source": []
  }
 ],
 "metadata": {
  "kernelspec": {
   "display_name": "Python 3 (ipykernel)",
   "language": "python",
   "name": "python3"
  },
  "language_info": {
   "codemirror_mode": {
    "name": "ipython",
    "version": 3
   },
   "file_extension": ".py",
   "mimetype": "text/x-python",
   "name": "python",
   "nbconvert_exporter": "python",
   "pygments_lexer": "ipython3",
   "version": "3.7.11"
  }
 },
 "nbformat": 4,
 "nbformat_minor": 5
}
